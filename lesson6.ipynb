{
  "nbformat": 4,
  "nbformat_minor": 0,
  "metadata": {
    "colab": {
      "name": "lesson6",
      "provenance": [],
      "collapsed_sections": [],
      "authorship_tag": "ABX9TyPCr4V/AqFKwUpn5LeeUDqW",
      "include_colab_link": true
    },
    "kernelspec": {
      "name": "python3",
      "display_name": "Python 3"
    },
    "accelerator": "GPU"
  },
  "cells": [
    {
      "cell_type": "markdown",
      "metadata": {
        "id": "view-in-github",
        "colab_type": "text"
      },
      "source": [
        "<a href=\"https://colab.research.google.com/github/216d0136/git-practice/blob/master/lesson6.ipynb\" target=\"_parent\"><img src=\"https://colab.research.google.com/assets/colab-badge.svg\" alt=\"Open In Colab\"/></a>"
      ]
    },
    {
      "cell_type": "code",
      "metadata": {
        "id": "SThfI9U4sEGa",
        "colab_type": "code",
        "colab": {
          "base_uri": "https://localhost:8080/",
          "height": 187
        },
        "outputId": "f23fd0b8-07aa-4cbb-afd2-361ffbf898c6"
      },
      "source": [
        "print(\"体型診断\")\n",
        "\n",
        "ans  = \" y or nで入力\" + \"\\n\"\n",
        "ans2 = \"デブ or ガリ\"    + \"\\n\"\n",
        "\n",
        "q1 = input(\"ダイエットしたいですか？\" + ans)\n",
        "if q1 == \"y\":\n",
        "    print(\"まずは体型から教えてください\")\n",
        "    q2 = input(\"次の質問です！本当に痩せたいのですか？\" + ans)\n",
        "    if q2 == \"y\":\n",
        "\n",
        "        q3 = input(\"どのくらい痩せたいのですか\" + ans2)\n",
        "        if q3 == \"ガリ\":\n",
        "            print(\"いい目標ですね\")\n",
        "        else:\n",
        "            print(\"では、筋肉もつけましょう\")\n",
        "    else:\n",
        "        q4 = input(\"以下の中でどちらが興味ありますか？\" + ans2)\n",
        "        if q4 == \"筋肉\":\n",
        "            print(\"筋トレ方法を学びましょう\")\n",
        "        else:\n",
        "            print(\"長い道のりになりますね\")\n",
        "else:\n",
        "    q4 = input(\"以下の中でどちらが興味ありますか？\" + ans2)\n",
        "    if q4 == \"筋肉はつけずに痩せたい\":\n",
        "        print(\"ダイエットがどういうものか一度勉強した方がいいですね\")\n",
        "    else:\n",
        "        print(\"筋肉をつけながらのダイエットの方が効率よく痩せますよ\")\n",
        "\n",
        "print(\"診断を終了しました。\")"
      ],
      "execution_count": 2,
      "outputs": [
        {
          "output_type": "stream",
          "text": [
            "体型診断\n",
            "ダイエットしたいですか？ y or nで入力\n",
            "y\n",
            "まずは体型から教えてください\n",
            "次の質問です！本当に痩せたいのですか？ y or nで入力\n",
            "y\n",
            "どのくらい痩せたいのですかデブ or ガリ\n",
            "デブ\n",
            "では、筋肉もつけましょう\n",
            "診断を終了しました。\n"
          ],
          "name": "stdout"
        }
      ]
    }
  ]
}