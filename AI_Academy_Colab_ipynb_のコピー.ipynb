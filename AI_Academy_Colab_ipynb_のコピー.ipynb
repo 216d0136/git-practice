{
  "nbformat": 4,
  "nbformat_minor": 0,
  "metadata": {
    "colab": {
      "name": "AI_Academy_Colab.ipynb のコピー",
      "provenance": [],
      "collapsed_sections": [],
      "include_colab_link": true
    },
    "kernelspec": {
      "name": "python3",
      "display_name": "Python 3"
    },
    "accelerator": "GPU"
  },
  "cells": [
    {
      "cell_type": "markdown",
      "metadata": {
        "id": "view-in-github",
        "colab_type": "text"
      },
      "source": [
        "<a href=\"https://colab.research.google.com/github/216d0136/git-practice/blob/master/AI_Academy_Colab_ipynb_%E3%81%AE%E3%82%B3%E3%83%94%E3%83%BC.ipynb\" target=\"_parent\"><img src=\"https://colab.research.google.com/assets/colab-badge.svg\" alt=\"Open In Colab\"/></a>"
      ]
    },
    {
      "cell_type": "code",
      "metadata": {
        "id": "A3sjsR2qDGm8",
        "colab_type": "code",
        "colab": {
          "base_uri": "https://localhost:8080/",
          "height": 68
        },
        "outputId": "73895350-40c3-45df-f562-bed982349f02"
      },
      "source": [
        "### 下記の入力フィールドにプログラムを打ち込み、左の実行ボタンを押す事で書いたコードを実行できます。　###\n",
        "from sklearn import datasets\n",
        "from sklearn import svm\n",
        "\n",
        "# Irisの測定データの読み込み\n",
        "iris = datasets.load_iris()\n",
        "clf = svm.SVC()\n",
        "clf.fit(iris.data, iris.target)\n",
        "print(clf.predict([[1.4, 3.5, 5.1, 0.2], [6.5, 2.6, 4.4, 1.4], [5.9, 3.0, 5.2, 1.5]]))\n",
        "\n",
        "from sklearn.model_selection import train_test_split\n",
        "from sklearn import svm\n",
        "from sklearn.metrics import accuracy_score\n",
        "\n",
        "# データの読み込み\n",
        "iris = datasets.load_iris()\n",
        "x, y = iris.data, iris.target\n",
        "\n",
        "# トレーニングデータとテストデータに分ける\n",
        "x_train, x_test, y_train, y_test = train_test_split(x, y, random_state=1)\n",
        "\n",
        "# モデルの選択\n",
        "model = svm.SVC()\n",
        "\n",
        "# 学習\n",
        "model.fit(x_train, y_train)\n",
        "\n",
        "# 評価\n",
        "pred = model.predict(x_test)\n",
        "print(accuracy_score(y_test, pred))\n",
        "\n",
        "# 学習済みモデルを使う\n",
        "print(model.predict([[1.4, 3.5, 5.1, 0.2]]))\n",
        "\n",
        "# 次のように、複数渡すことも可能です。\n",
        "# print(model.predict([[1.4, 3.5, 5.1, 0.2], [6.5, 2.6, 4.4, 1.4], [5.9, 3.0, 5.2, 1.5]]))"
      ],
      "execution_count": null,
      "outputs": [
        {
          "output_type": "stream",
          "text": [
            "[1 1 2]\n",
            "0.9736842105263158\n",
            "[2]\n"
          ],
          "name": "stdout"
        }
      ]
    },
    {
      "cell_type": "code",
      "metadata": {
        "id": "5EcfPhx7DJyE",
        "colab_type": "code",
        "colab": {}
      },
      "source": [
        ""
      ],
      "execution_count": null,
      "outputs": []
    },
    {
      "cell_type": "markdown",
      "metadata": {
        "id": "b43HhkJ4DaWV",
        "colab_type": "text"
      },
      "source": [
        ""
      ]
    }
  ]
}